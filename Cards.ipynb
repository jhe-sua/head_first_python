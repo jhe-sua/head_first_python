{
 "cells": [
  {
   "cell_type": "code",
   "execution_count": 2,
   "id": "8bc0968a",
   "metadata": {},
   "outputs": [],
   "source": [
    "suit = [\"Clubs\", \"Spades\", \"Hearts\", \"Diamonds\"]\n",
    "faces = [\"Jack\", \"Queen\", \"King\", \"Ace\"]\n",
    "numbered = [2, 3, 4, 5, 6, 7, 8, 9, 10]"
   ]
  },
  {
   "cell_type": "code",
   "execution_count": 3,
   "id": "5e285aae",
   "metadata": {},
   "outputs": [],
   "source": [
    "import random"
   ]
  },
  {
   "cell_type": "code",
   "execution_count": 4,
   "id": "36b7e79d",
   "metadata": {},
   "outputs": [],
   "source": [
    "def draw():\n",
    "\n",
    "    which_suit = random.choice(suit)\n",
    "    \n",
    "    which_type = random.choice([faces, numbered])\n",
    "\n",
    "    which_card = random.choice(which_type)\n",
    "\n",
    "    return which_card, \"of\", which_suit "
   ]
  },
  {
   "cell_type": "code",
   "execution_count": 5,
   "id": "7525abad",
   "metadata": {},
   "outputs": [
    {
     "data": {
      "text/plain": [
       "(7, 'of', 'Clubs')"
      ]
     },
     "execution_count": 5,
     "metadata": {},
     "output_type": "execute_result"
    }
   ],
   "source": [
    "draw()"
   ]
  },
  {
   "cell_type": "code",
   "execution_count": 6,
   "id": "51cb1408",
   "metadata": {},
   "outputs": [
    {
     "data": {
      "text/plain": [
       "(3, 'of', 'Diamonds')"
      ]
     },
     "execution_count": 6,
     "metadata": {},
     "output_type": "execute_result"
    }
   ],
   "source": [
    "draw()"
   ]
  },
  {
   "cell_type": "code",
   "execution_count": 7,
   "id": "69fec6d1",
   "metadata": {},
   "outputs": [
    {
     "data": {
      "text/plain": [
       "(7, 'of', 'Diamonds')"
      ]
     },
     "execution_count": 7,
     "metadata": {},
     "output_type": "execute_result"
    }
   ],
   "source": [
    "draw()"
   ]
  },
  {
   "cell_type": "code",
   "execution_count": null,
   "id": "faf6f16e",
   "metadata": {},
   "outputs": [],
   "source": []
  }
 ],
 "metadata": {
  "kernelspec": {
   "display_name": ".venv",
   "language": "python",
   "name": "python3"
  },
  "language_info": {
   "codemirror_mode": {
    "name": "ipython",
    "version": 3
   },
   "file_extension": ".py",
   "mimetype": "text/x-python",
   "name": "python",
   "nbconvert_exporter": "python",
   "pygments_lexer": "ipython3",
   "version": "3.10.17"
  }
 },
 "nbformat": 4,
 "nbformat_minor": 5
}
